{
 "cells": [
  {
   "cell_type": "code",
   "execution_count": null,
   "id": "4979caae-b339-4b41-84fc-df4dfd843d9b",
   "metadata": {},
   "outputs": [],
   "source": [
    "import pandas as pd\n",
    "from statsmodels.stats.outliers_influence import variance_inflation_factor\n",
    "from statsmodels.tools.tools import add_constant\n",
    "import numpy as np\n",
    "import matplotlib.pyplot as plt\n",
    "import sys\n",
    "sys.path.append('../')\n",
    "from plot_style.style_prab import load_preset,figsize,cmap_nicify\n",
    "from plot_style.style_prab import colors as colors_preset\n",
    "load_preset(scale=1,font_path='../plot_style/font')\n",
    "import pickle\n",
    "mymap = cmap_nicify(cmap='YlGnBu_r',idx_white=1,size_white=50)\n",
    "from scipy.interpolate import interp1d\n",
    "\n",
    "from sklearn.linear_model import LinearRegression\n",
    "\n",
    "pd.set_option('display.max_columns', None)\n",
    "pd.set_option('display.max_rows', 20)\n"
   ]
  },
  {
   "cell_type": "code",
   "execution_count": null,
   "id": "1f096004-8ec1-4b3c-9139-8ecb63cee073",
   "metadata": {},
   "outputs": [],
   "source": [
    "path = '../data/dataframe_combined_xspec_interpolated_gaia_energy_2022.h5'\n",
    "df_xspec = pd.read_hdf(path)[:-1]\n",
    "\n",
    "path = '../data/dataframe_combined_espec_interpolated_gaia_energy_2022.h5'\n",
    "df_espec = pd.read_hdf(path)[:-1]\n",
    "\n",
    "wl = np.load('../data/wavelength_axis.npy')"
   ]
  },
  {
   "cell_type": "code",
   "execution_count": null,
   "id": "771f3ec3-73ce-4300-ab50-59e93364ee03",
   "metadata": {},
   "outputs": [],
   "source": [
    "# check if diagnostics are synced\n",
    "f = df_espec['bpm2_q'] > 20\n",
    "f = df_xspec['bpm2_q'] > 20\n",
    "nonan = ~df_espec['espec_high_energy_median'].isna() & ~df_xspec['xspec_1st_order_wavelangth'].isna()\n",
    "f = f & nonan\n",
    "\n",
    "x = df_espec['espec_high_energy_median'][f]\n",
    "y = df_espec['xspec_1st_order_wavelangth'][f]\n",
    "\n",
    "plt.hexbin(x,y,cmap=mymap,bins=500, extent = (235,290,9,14)) #extent = (1,15,1,3),bins=50)\n",
    "plt.xlabel('Median absolute deviation')\n",
    "plt.ylabel('1st order width')"
   ]
  },
  {
   "cell_type": "code",
   "execution_count": null,
   "id": "71416299-cbe7-44fe-94b2-5594c4cec159",
   "metadata": {},
   "outputs": [],
   "source": [
    "# remove all nan-shots from xspec-data\n",
    "nonan = ~pd.isna(df_xspec['xspec_spectrum'])\n",
    "df_xspecx = df_xspec['xspec_spectrum'][nonan].to_frame()\n",
    "\n",
    "# join espec and xspec on shotid\n",
    "joint = df_espec.join(df_xspecx,on='shotid')\n",
    "joint = joint.sort_values(by='espec_high_energy_median',ascending=True)\n",
    "nonan1 = ~pd.isna(joint['xspec_1st_order_wavelangth'])\n",
    "#nonan2 = ~pd.isna(joint['3'])\n",
    "\n",
    "\n",
    "ff = joint['amp2_energy'] > 5.5\n",
    "fff = joint['saga3_energy'] > 1\n",
    "ffff = joint['oap_ff_peak_x']> -400\n",
    "f = nonan1 & ff & fff & ffff\n",
    "joint = joint[f]\n",
    "\n",
    "nonan = ~pd.isna(joint['xspec_1st_order_wavelangth'])\n",
    "joint = joint[nonan]\n",
    "nonan = joint['bpm1_q']>20\n",
    "joint = joint[nonan]\n",
    "#nonan = joint['espec_high_energy_median']<260\n",
    "#joint = joint[nonan]"
   ]
  },
  {
   "cell_type": "code",
   "execution_count": null,
   "id": "b180640d",
   "metadata": {},
   "outputs": [],
   "source": [
    "# create bins\n",
    "n = 100\n",
    "m = np.nanmean(joint['espec_high_energy_median'].values)\n",
    "s = np.nanstd(joint['espec_high_energy_median'].values)\n",
    "counts,bins,_ = plt.hist(joint['espec_high_energy_median'].values,bins=n,range=[m-2.5*s,m+2.5*s])"
   ]
  },
  {
   "cell_type": "code",
   "execution_count": null,
   "id": "2f594e4a-bb7f-41c3-b3f9-d567219a9449",
   "metadata": {},
   "outputs": [],
   "source": [
    "wfp = np.zeros((n+1,1024//2-300))\n",
    "y = []\n",
    "mad = np.zeros(n+1,)\n",
    "\n",
    "for i,row in enumerate(joint.iterrows()):\n",
    "    E,wl_spec,mad_ = row[1]['espec_high_energy_median'],row[1]['xspec_spectrum'],row[1]['espec_high_energy_mad']\n",
    "    for j in range(1,bins.shape[0]):\n",
    "        if E>bins[j-1] and E<bins[j]:\n",
    "            m = np.nansum(wl_spec[1024//2+12-50:1024//2+12+50])*(wl[1]-wl[0])\n",
    "            #m = np.nansum(wl_spec)*(wl[1]-wl[0])\n",
    "            #if m < 1000:\n",
    "            #    break\n",
    "            wfp[j,:] += wl_spec[1024//2:-300]/m\n",
    "            mad[j] += mad_\n",
    "            break\n",
    "wfp = wfp[1:,:]\n",
    "mad= mad[1:]\n",
    "wfp = wfp/counts[:,np.newaxis]\n",
    "mad = mad/counts"
   ]
  },
  {
   "cell_type": "code",
   "execution_count": null,
   "id": "8e08cbfb-7876-4bf9-be48-791f1163d1d5",
   "metadata": {},
   "outputs": [],
   "source": [
    "wl = np.load('../data/wavelength_axis.npy')\n",
    "y = bins[1:]-np.diff(bins)[0]/2\n",
    "plt.pcolormesh(wl[1024//2+12:-300]-wl[1024//2+12],y,wfp[:,12:],cmap=mymap,vmin=0,vmax=0.5)\n",
    "\n",
    "wl_u = 5e6 # nm\n",
    "K = 0.29 #0.29 # unitless\n",
    "mec2 = 0.511 #MeV \n",
    "\n",
    "# undulator eq\n",
    "def xray_wl(E):\n",
    "    return (wl_u*mec2**2/(2*(E)**2))*(1+K**2/2) \n",
    "\n",
    "E = np.linspace(240,290)\n",
    "xwl = xray_wl(E)\n",
    "plt.plot(xwl,E,'k',label='Undulator eq.')\n"
   ]
  },
  {
   "cell_type": "code",
   "execution_count": null,
   "id": "3334a62e",
   "metadata": {},
   "outputs": [],
   "source": [
    "d = {'mad':mad,\n",
    "     'E' : y,\n",
    "     'wl' : wl[1024//2+12:-300]-wl[1024//2+12],\n",
    "     'wfp' : wfp[:,12:],}\n",
    "with open('../data/waterfall_data_xray_normalized.pkl','wb') as fp:\n",
    "    pickle.dump(d,fp)"
   ]
  },
  {
   "cell_type": "code",
   "execution_count": null,
   "id": "e826f0ab",
   "metadata": {},
   "outputs": [],
   "source": [
    "import matplotlib\n",
    "from mpl_toolkits.axes_grid1 import make_axes_locatable\n",
    "from matplotlib.cm import ScalarMappable\n",
    "from matplotlib.colors import Normalize\n",
    "\n",
    "\n",
    "fig,ax = plt.subplots(1,1)\n",
    "\n",
    "mad_target = np.arange(242,260,1)\n",
    "E = bins[1:]-np.diff(bins)[0]/2\n",
    "for m in mad_target:\n",
    "    i = np.where(E>m)[0][0]\n",
    "    c = (m-230)/(260-230) \n",
    "    color = plt.cm.gnuplot(c)\n",
    "    ii = np.argmax(wfp[i,50:])\n",
    "\n",
    "    x = wl[1024//2+50:-300]-wl[1024//2+12]\n",
    "    x_0 = x[ii]\n",
    "    x = x-x_0\n",
    "    ax.plot(x,wfp[i,50:]/wfp[i,50:].max(),color=color)\n",
    "\n",
    "\n",
    "cmappable = ScalarMappable(norm=Normalize(230,260), cmap='gnuplot')\n",
    "fig.colorbar(cmappable, ax=ax)\n",
    "plt.xlabel('Wavelength [nm]')\n",
    "plt.title('Xray-spectrum (MAD values diffrentiated by color) \\n moving average, Normalized to max value')\n",
    "#plt.savefig('xray_spectrum_mad_averaged_normalized_low_energy_shifted.png',dpi=300)"
   ]
  },
  {
   "cell_type": "code",
   "execution_count": null,
   "id": "4a12922a",
   "metadata": {},
   "outputs": [],
   "source": []
  }
 ],
 "metadata": {
  "kernelspec": {
   "display_name": "Python 3 (ipykernel)",
   "language": "python",
   "name": "python3"
  },
  "language_info": {
   "codemirror_mode": {
    "name": "ipython",
    "version": 3
   },
   "file_extension": ".py",
   "mimetype": "text/x-python",
   "name": "python",
   "nbconvert_exporter": "python",
   "pygments_lexer": "ipython3",
   "version": "3.12.2"
  }
 },
 "nbformat": 4,
 "nbformat_minor": 5
}
