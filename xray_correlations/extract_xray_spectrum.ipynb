{
 "cells": [
  {
   "cell_type": "code",
   "execution_count": null,
   "id": "4979caae-b339-4b41-84fc-df4dfd843d9b",
   "metadata": {},
   "outputs": [],
   "source": [
    "import pandas as pd\n",
    "from statsmodels.stats.outliers_influence import variance_inflation_factor\n",
    "from statsmodels.tools.tools import add_constant\n",
    "import numpy as np\n",
    "import matplotlib.pyplot as plt\n",
    "import sys\n",
    "sys.path.append('../')\n",
    "from plot_style.style_prab import load_preset,figsize,cmap_nicify\n",
    "from plot_style.style_prab import colors as colors_preset\n",
    "load_preset(scale=1,font_path='../plot_style/font')\n",
    "import pickle\n",
    "mymap = cmap_nicify(cmap='YlGnBu_r',idx_white=1,size_white=50)\n",
    "from scipy.interpolate import interp1d\n",
    "from sklearn.linear_model import LinearRegression\n",
    "\n",
    "pd.set_option('display.max_columns', None)\n",
    "pd.set_option('display.max_rows', 20)\n"
   ]
  },
  {
   "cell_type": "code",
   "execution_count": null,
   "id": "1f096004-8ec1-4b3c-9139-8ecb63cee073",
   "metadata": {},
   "outputs": [],
   "source": [
    "path = '../data/dataframe_combined_xspec_interpolated_gaia_energy_2022.h5'\n",
    "df_xspec = pd.read_hdf(path)[:-1]\n",
    "\n",
    "path = '../data/dataframe_combined_espec_interpolated_gaia_energy_2022.h5'\n",
    "df_espec = pd.read_hdf(path)[:-1]"
   ]
  },
  {
   "cell_type": "code",
   "execution_count": null,
   "id": "771f3ec3-73ce-4300-ab50-59e93364ee03",
   "metadata": {},
   "outputs": [],
   "source": [
    "# check if diagnostics are synced\n",
    "f = df_espec['bpm2_q'] > 10\n",
    "f = df_xspec['bpm2_q'] > 10\n",
    "nonan = ~df_espec['espec_high_energy_median'].isna() & ~df_xspec['xspec_1st_order_wavelangth'].isna()\n",
    "f = f & nonan\n",
    "\n",
    "x = df_espec['espec_high_energy_median'][f]\n",
    "y = df_espec['xspec_1st_order_wavelangth'][f]\n",
    "\n",
    "plt.hexbin(x,y,cmap=mymap,bins=500, extent = (235,290,9,14)) #extent = (1,15,1,3),bins=50)\n",
    "plt.xlabel('Median absolute deviation')\n",
    "plt.ylabel('1st order width')"
   ]
  },
  {
   "cell_type": "code",
   "execution_count": null,
   "id": "71416299-cbe7-44fe-94b2-5594c4cec159",
   "metadata": {},
   "outputs": [],
   "source": [
    "# remove all nan-shots from xspec-data\n",
    "nonan = ~pd.isna(df_xspec['xspec_spectrum'])\n",
    "df_xspecx = df_xspec['xspec_spectrum'][nonan].to_frame()\n",
    "\n",
    "# join espec and xspec on shotid\n",
    "joint = df_espec.join(df_xspecx,on='shotid')\n",
    "joint = joint.sort_values(by='espec_high_energy_median',ascending=True)\n",
    "nonan = ~pd.isna(joint['xspec_1st_order_wavelangth'])\n",
    "joint = joint[nonan]"
   ]
  },
  {
   "cell_type": "code",
   "execution_count": null,
   "id": "b180640d",
   "metadata": {},
   "outputs": [],
   "source": [
    "# create bins\n",
    "n = 100\n",
    "counts,bins,_ = plt.hist(joint['espec_high_energy_median'].values,bins=n,range=[227,300])"
   ]
  },
  {
   "cell_type": "code",
   "execution_count": null,
   "id": "2f594e4a-bb7f-41c3-b3f9-d567219a9449",
   "metadata": {},
   "outputs": [],
   "source": [
    "wfp = np.zeros((n+1,1024//2-300))\n",
    "y = []\n",
    "\n",
    "for i,row in enumerate(joint.iterrows()):\n",
    "    E,wl_spec,_ = row[1]['espec_high_energy_median'],row[1]['xspec_spectrum'],row[1]['xspec_1st_order_wavelangth']\n",
    "    for j in range(1,bins.shape[0]):\n",
    "        if E>bins[j-1] and E<bins[j]:\n",
    "            wfp[j,:] += wl_spec[1024//2:-300]\n",
    "            break\n",
    "wfp = wfp[1:,:]\n",
    "wfp = wfp/counts[:,np.newaxis]\n"
   ]
  },
  {
   "cell_type": "code",
   "execution_count": null,
   "id": "8e08cbfb-7876-4bf9-be48-791f1163d1d5",
   "metadata": {},
   "outputs": [],
   "source": [
    "wl = np.load('../data/wavelength_axis.npy')\n",
    "y = bins[1:]-np.diff(bins)[0]/2\n",
    "plt.pcolormesh(wl[1024//2+12:-300]-wl[1024//2+12],y,wfp[:,12:],cmap=mymap)\n",
    "\n",
    "wl_u = 5e6 # nm\n",
    "K = 0.29 #0.29 # unitless\n",
    "mec2 = 0.511 #MeV \n",
    "\n",
    "# undulator eq\n",
    "def xray_wl(E):\n",
    "    return (wl_u*mec2**2/(2*(E)**2))*(1+K**2/2) \n",
    "\n",
    "E = np.linspace(235,290)\n",
    "xwl = xray_wl(E)\n",
    "plt.plot(xwl,E,'k',label='Undulator eq.')\n"
   ]
  },
  {
   "cell_type": "code",
   "execution_count": null,
   "id": "8144d050",
   "metadata": {},
   "outputs": [],
   "source": [
    "# remove all nan-shots from xspec-data\n",
    "nonan = ~pd.isna(df_xspec['xspec_spectrum'])\n",
    "df_xspecx = df_xspec['xspec_spectrum'][nonan].to_frame()\n",
    "\n",
    "# join espec and xspec on shotid\n",
    "joint = df_espec.join(df_xspecx,on='shotid')\n",
    "joint = joint.sort_values(by='espec_high_energy_mad',ascending=True)\n",
    "nonan = ~pd.isna(joint['xspec_1st_order_wavelangth'])\n",
    "joint = joint[nonan]"
   ]
  },
  {
   "cell_type": "code",
   "execution_count": null,
   "id": "52a51c1c",
   "metadata": {},
   "outputs": [],
   "source": [
    "# create bins\n",
    "n = 100\n",
    "counts,bins,_ = plt.hist(joint['espec_high_energy_mad'].values,bins=n,range=[1,20])"
   ]
  },
  {
   "cell_type": "code",
   "execution_count": null,
   "id": "53e4536b",
   "metadata": {},
   "outputs": [],
   "source": [
    "import matplotlib\n",
    "from mpl_toolkits.axes_grid1 import make_axes_locatable\n",
    "from matplotlib.cm import ScalarMappable\n",
    "from matplotlib.colors import Normalize\n",
    "\n",
    "fig,ax = plt.subplots(1,1)\n",
    "\n",
    "mad_target = np.arange(2,18,1)\n",
    "mad = joint['espec_high_energy_mad'].values\n",
    "for m in mad_target:\n",
    "    i = np.where(mad>m)[0][0]\n",
    "    c = m/18 \n",
    "    color = plt.cm.gnuplot(c)\n",
    "    ax.plot(wl[1024//2+50:-300]-wl[1024//2+12],joint['xspec_spectrum'].iloc[i][1024//2+50:-300],color=color)\n",
    "\n",
    "\n",
    "cmappable = ScalarMappable(norm=Normalize(2,18), cmap='gnuplot')\n",
    "fig.colorbar(cmappable, ax=ax)\n",
    "plt.xlabel('Wavelength [nm]')\n",
    "plt.title('Xray-spectrum (MAD values diffrentiated by color)')\n",
    "plt.savefig('xray_spectrum_mad.png',dpi=300)"
   ]
  },
  {
   "cell_type": "code",
   "execution_count": null,
   "id": "4db959a5",
   "metadata": {},
   "outputs": [],
   "source": [
    "fig,ax = plt.subplots(1,1)\n",
    "\n",
    "mad_target = np.arange(2,12,1)\n",
    "mad = joint['espec_high_energy_mad'].values\n",
    "for m in mad_target:\n",
    "    i = np.where(mad>m)[0][0]\n",
    "    c = m/18 \n",
    "    color = plt.cm.gnuplot(c)\n",
    "    ax.plot(wl[1024//2+50:-300]-wl[1024//2+12],joint['xspec_spectrum'].iloc[i][1024//2+50:-300]/joint['xspec_spectrum'].iloc[i][1024//2+50:-300].max(),color=color)\n",
    "\n",
    "\n",
    "cmappable = ScalarMappable(norm=Normalize(2,18), cmap='gnuplot')\n",
    "fig.colorbar(cmappable, ax=ax)\n",
    "plt.xlabel('Wavelength [nm]')\n",
    "plt.title('Xray-spectrum (MAD values diffrentiated by color) \\n normalized to max value')\n",
    "plt.savefig('xray_spectrum_mad_normalized.png',dpi=300)"
   ]
  },
  {
   "cell_type": "code",
   "execution_count": null,
   "id": "5f29b200",
   "metadata": {},
   "outputs": [],
   "source": [
    "wfp = np.zeros((n+1,1024//2-300))\n",
    "y = []\n",
    "\n",
    "for i,row in enumerate(joint.iterrows()):\n",
    "    E,wl_spec,_ = row[1]['espec_high_energy_mad'],row[1]['xspec_spectrum'],row[1]['xspec_1st_order_wavelangth']\n",
    "    for j in range(1,bins.shape[0]):\n",
    "        if E>bins[j-1] and E<bins[j]:\n",
    "            m = np.max(wl_spec[1024//2:-300])\n",
    "            wfp[j,:] += wl_spec[1024//2:-300]#/m\n",
    "            break\n",
    "wfp = wfp[1:,:]\n",
    "wfp = (wfp/counts[:,np.newaxis])"
   ]
  },
  {
   "cell_type": "code",
   "execution_count": null,
   "id": "0313bd27",
   "metadata": {},
   "outputs": [],
   "source": [
    "fig,ax = plt.subplots(1,1)\n",
    "\n",
    "mad_target = np.arange(2,16,1)\n",
    "mad = bins[1:]-np.diff(bins)[0]/2\n",
    "for m in mad_target:\n",
    "    i = np.where(mad>m)[0][0]\n",
    "    c = m/18 \n",
    "    color = plt.cm.gnuplot(c)\n",
    "    ax.plot(wl[1024//2+50:-300]-wl[1024//2+12],wfp[i,50:]/wfp[i,50:].max(),color=color)\n",
    "\n",
    "\n",
    "cmappable = ScalarMappable(norm=Normalize(2,18), cmap='gnuplot')\n",
    "fig.colorbar(cmappable, ax=ax)\n",
    "plt.xlabel('Wavelength [nm]')\n",
    "plt.title('Xray-spectrum (MAD values diffrentiated by color) \\n moving average, Normalized to max value')\n",
    "#plt.savefig('xray_spectrum_mad_averaged_normalized.png',dpi=300)"
   ]
  },
  {
   "cell_type": "code",
   "execution_count": null,
   "id": "dc054af6",
   "metadata": {},
   "outputs": [],
   "source": [
    "wl = np.load('../data/wavelength_axis.npy')\n",
    "y = bins[1:]-np.diff(bins)[0]/2\n",
    "plt.pcolormesh(wl[1024//2+12:-300]-wl[1024//2+12],y,wfp[:,12:],cmap=mymap)\n",
    "\n",
    "\n",
    "plt.xlabel('Wavelength (nm)')\n",
    "plt.ylabel('Median absolute enegry spread (MeV)')\n",
    "plt.title('Absolut intensity')\n",
    "#plt.savefig('MAD_xray_spectrum_intensity.png')"
   ]
  },
  {
   "cell_type": "code",
   "execution_count": null,
   "id": "964dbf30",
   "metadata": {},
   "outputs": [],
   "source": [
    "wl = np.load('../data/wavelength_axis.npy')\n",
    "y = bins[1:]-np.diff(bins)[0]/2\n",
    "plt.pcolormesh(wl[1024//2+12:-300]-wl[1024//2+12],y,wfp[:,12:],cmap=mymap,vmin=0,vmax=0.4)\n",
    "\n",
    "\n",
    "plt.xlabel('Wavelength (nm)')\n",
    "plt.ylabel('MAD (MeV)')\n",
    "plt.title('Normalized')\n",
    "#plt.savefig('MAD_xray_spectrum_normalized.png')"
   ]
  },
  {
   "cell_type": "code",
   "execution_count": null,
   "id": "0c2e5f2e",
   "metadata": {},
   "outputs": [],
   "source": []
  }
 ],
 "metadata": {
  "kernelspec": {
   "display_name": "Python 3 (ipykernel)",
   "language": "python",
   "name": "python3"
  },
  "language_info": {
   "codemirror_mode": {
    "name": "ipython",
    "version": 3
   },
   "file_extension": ".py",
   "mimetype": "text/x-python",
   "name": "python",
   "nbconvert_exporter": "python",
   "pygments_lexer": "ipython3",
   "version": "3.10.13"
  }
 },
 "nbformat": 4,
 "nbformat_minor": 5
}
