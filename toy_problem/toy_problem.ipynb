{
 "cells": [
  {
   "cell_type": "code",
   "execution_count": 1,
   "id": "451cf461-63d4-4e04-85e0-a0ef419507dc",
   "metadata": {},
   "outputs": [
    {
     "name": "stdout",
     "output_type": "stream",
     "text": [
      "matplotlib preset loaded\n"
     ]
    }
   ],
   "source": [
    "import numpy as np\n",
    "import matplotlib.pyplot as plt\n",
    "import torch\n",
    "import torch.nn as nn\n",
    "import sys, os\n",
    "sys.path.append('../')\n",
    "from data_handling import Container,load_data,Normalize,Denormalize\n",
    "from plot_style.style_prab import load_preset\n",
    "from plot_style.style_prab import colors as colors_preset\n",
    "from model import NN, Loss, L1Loss\n",
    "load_preset(scale=1,font_path='../plot_style/font')"
   ]
  },
  {
   "cell_type": "code",
   "execution_count": 2,
   "id": "31cdd7b9-3ae2-49c1-b73c-587add7a84c6",
   "metadata": {},
   "outputs": [],
   "source": [
    "run generate_data"
   ]
  },
  {
   "cell_type": "code",
   "execution_count": 3,
   "id": "8fbceda8-45d5-40e1-813a-415abd9ee853",
   "metadata": {},
   "outputs": [],
   "source": [
    "path = './toydata.h5'\n",
    "OD_models = [NN(2,1,hidden=2,layers=2),\n",
    "            NN(1,1,hidden=2,layers=2)]\n",
    "\n",
    "MSE_models = [NN(1,1,hidden=2,layers=2)]\n",
    "\n",
    "trainset, testset, norm  = load_data(path,\n",
    "                                ['x'],\n",
    "                                ['y'],\n",
    "                                samples=5000,\n",
    "                                ratio=0.9,\n",
    "                                random=False)\n",
    "\n",
    "norm[0][0]=0\n",
    "norm[0][1]=1\n",
    "norm[1][0]=0\n",
    "norm[1][1]=1\n",
    "\n",
    "trainset, testset, _  = load_data(path,\n",
    "                                ['x'],\n",
    "                                ['y'],\n",
    "                                samples=5000,\n",
    "                                ratio=0.9,\n",
    "                                norm=norm,\n",
    "                                random=False)\n",
    "\n",
    "    \n",
    "trainset = Container(trainset)\n",
    "testset = Container(testset)\n",
    "\n",
    "train_loader = torch.utils.data.DataLoader(\n",
    "    trainset,\n",
    "    batch_size=2**10,\n",
    "    shuffle=True,\n",
    "    num_workers=1)\n",
    "\n",
    "test_loader = torch.utils.data.DataLoader(\n",
    "    testset,\n",
    "    batch_size=2**10,\n",
    "    shuffle=True,\n",
    "    num_workers=1)\n"
   ]
  },
  {
   "cell_type": "code",
   "execution_count": 4,
   "id": "dfd9c757-5880-48af-a4ff-83997273c826",
   "metadata": {},
   "outputs": [
    {
     "name": "stdout",
     "output_type": "stream",
     "text": [
      "0\n",
      "100\n",
      "200\n",
      "300\n",
      "400\n",
      "500\n",
      "600\n",
      "700\n",
      "800\n",
      "900\n"
     ]
    }
   ],
   "source": [
    "epochs = 1000\n",
    "models = OD_models \n",
    "opt1 = torch.optim.Adam(models[0].parameters(), lr=0.01)\n",
    "opt2 = torch.optim.Adam(models[1].parameters(), lr=0.01)\n",
    "criterion = Loss()\n",
    "\n",
    "models[0].train(True)\n",
    "models[1].train(True)\n",
    "l_OD = []\n",
    "for epoch in range(epochs):    \n",
    "    if epoch >= 500:\n",
    "        mloss = 0\n",
    "        for data, target in train_loader:\n",
    "            opt1.zero_grad()\n",
    "            opt2.zero_grad()\n",
    "            x_pred = models[0](torch.cat([data,target],1))\n",
    "            y_pred = models[1](x_pred)\n",
    "            loss = criterion(y_pred, target, x_pred, data, models[0].sigma, models[1].sigma)\n",
    "            loss.backward()    \n",
    "            opt1.step()\n",
    "            opt2.step()\n",
    "            mloss += loss\n",
    "    else:\n",
    "        mloss = 0\n",
    "        for data, target in train_loader:\n",
    "            opt2.zero_grad()\n",
    "            y_pred = models[1](data)\n",
    "            loss = criterion(y_pred, target, data, data, models[0].sigma, models[1].sigma)\n",
    "            loss.backward()\n",
    "            opt2.step()\n",
    "            mloss += loss\n",
    " \n",
    "            opt1.zero_grad()\n",
    "            x_p = models[0](torch.cat([data,target],1))\n",
    "            y_p = models[1](x_p)\n",
    "            loss = criterion(y_p, target, x_p, data, models[0].sigma, models[1].sigma)\n",
    "            loss.backward()\n",
    "            opt1.step()\n",
    "    if epoch%100 == 0:\n",
    "        print(epoch)\n",
    "    l_OD.append((mloss).detach())"
   ]
  },
  {
   "cell_type": "code",
   "execution_count": null,
   "id": "4608dd3e-b505-4bb1-a63c-b7feb3de3672",
   "metadata": {},
   "outputs": [],
   "source": [
    "epochs = 500\n",
    "models = MSE_models \n",
    "opt1 = torch.optim.Adam(models[0].parameters(), lr=0.01)\n",
    "criterion = L1Loss()\n",
    "\n",
    "models[0].train(True)\n",
    "l_MSE = []\n",
    "for epoch in range(epochs):    \n",
    "    mloss = 0\n",
    "    for data, target in train_loader:\n",
    "        opt1.zero_grad()\n",
    "        y_pred = models[0](data)\n",
    "        loss = criterion(y_pred, target)\n",
    "        loss.backward()\n",
    "        opt1.step()\n",
    "        mloss += loss\n",
    "            \n",
    "    l_MSE.append((mloss).detach())"
   ]
  },
  {
   "cell_type": "code",
   "execution_count": null,
   "id": "594689ce-9df2-4e48-85f3-c4d8ec66d64d",
   "metadata": {},
   "outputs": [],
   "source": [
    "plt.plot(np.log(l_OD),label='OD')\n",
    "plt.plot(np.log(l_MSE),label='MSE')\n",
    "plt.legend()"
   ]
  },
  {
   "cell_type": "code",
   "execution_count": null,
   "id": "2bb68135-ad7b-4026-bdd2-ba3085d9e75c",
   "metadata": {},
   "outputs": [],
   "source": [
    "from scipy.odr import Model, Data, ODR\n",
    "\n",
    "def tls_f(B, x):\n",
    "    '''Linear function y = m*x + b'''\n",
    "    # B is a vector of the parameters.\n",
    "    # x is an array of the current x values.\n",
    "    # x is in the same format as the x passed to Data or RealData.\n",
    "    #\n",
    "    # Return an array in the same format as y passed to Data or RealData.\n",
    "    return B[0]*x**2 + B[1]*x + B[2]\n",
    "\n",
    "linear = Model(tls_f)\n",
    "mydata = Data(trainset.x.flatten(), trainset.y.flatten(), wd=1., we=1.)\n",
    "myodr = ODR(mydata, linear, beta0 = [0., 0., 0.])\n",
    "myoutput = myodr.run()\n",
    "k_odr = myoutput.beta\n",
    "myoutput.pprint()"
   ]
  },
  {
   "cell_type": "code",
   "execution_count": null,
   "id": "b21c685b-3913-4191-891f-ec0baf8e9d28",
   "metadata": {},
   "outputs": [],
   "source": [
    "MSE_models[0].train(False)\n",
    "OD_models[0].train(False)\n",
    "OD_models[1].train(False)\n",
    "\n",
    "\n",
    "\n",
    "fig,ax = plt.subplots(1,1,figsize=(2.5,2.2))\n",
    "x = torch.linspace(-4,4).unsqueeze(1)\n",
    "x_lin = np.linspace(-4,4)\n",
    "\n",
    "ax.hist2d(trainset.x.detach().flatten().numpy(),trainset.y.detach().flatten().numpy(),cmap='bone_r',bins=25,vmax=80)\n",
    "ax.plot(testset.x.detach().flatten().numpy()[::4],testset.y.detach().flatten().numpy()[::4],'.',color='k',ms=3.,mew=0,label='Data samples')\n",
    "\n",
    "ax.plot(x_lin,f(x_lin),color='k',label=r'$f$_true',lw=1.)\n",
    "ax.plot(x.detach().numpy(),OD_models[1](x).detach().numpy(),color=colors_preset[0],label='OD',lw=1.)\n",
    "ax.plot(x.detach().numpy(),MSE_models[0](x).detach().numpy(),color=colors_preset[3],label='MSE',lw=1.)\n",
    "k_ols = np.polyfit(trainset.x.flatten(),trainset.y.flatten(),2)\n",
    "\n",
    "#ax.plot(x_lin,k_ols[0]*x_lin**2+k_ols[1]*x_lin+k_ols[2],'-o',color='gray',label='OLS',lw=0.3,ms=1.)\n",
    "#ax.plot(x_lin,k_odr[0]*x_lin**2+k_odr[1]*x_lin+k_odr[2],'-s',color='gray',label='ODR',lw=0.3,ms=1)\n",
    "\n",
    "\n",
    "ax.set_xlim(-4,4)\n",
    "ax.set_ylim(-1.7,4.2)\n",
    "ax.set_xlabel(r'$x$ (arb. units)')\n",
    "ax.set_ylabel('$y$ (arb. units)')\n",
    "\n",
    "ax.legend(bbox_to_anchor=(0, 1.02, 1, 0.2), loc=\"lower left\",\n",
    "          #mode=\"expand\", \n",
    "          borderaxespad=0, \n",
    "          ncol=2,\n",
    "          frameon=False)\n",
    "plt.savefig('toy_problem.pdf')"
   ]
  }
 ],
 "metadata": {
  "kernelspec": {
   "display_name": "Python (thesis)",
   "language": "python",
   "name": "thesis"
  },
  "language_info": {
   "codemirror_mode": {
    "name": "ipython",
    "version": 3
   },
   "file_extension": ".py",
   "mimetype": "text/x-python",
   "name": "python",
   "nbconvert_exporter": "python",
   "pygments_lexer": "ipython3",
   "version": "3.8.5"
  }
 },
 "nbformat": 4,
 "nbformat_minor": 5
}
